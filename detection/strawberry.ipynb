{
  "nbformat": 4,
  "nbformat_minor": 0,
  "metadata": {
    "colab": {
      "name": "strawberry.ipynb",
      "version": "0.3.2",
      "provenance": [],
      "collapsed_sections": [],
      "toc_visible": true
    },
    "kernelspec": {
      "name": "python3",
      "display_name": "Python 3"
    },
    "accelerator": "GPU"
  },
  "cells": [
    {
      "cell_type": "markdown",
      "metadata": {
        "id": "I8i_IPSk2xUq",
        "colab_type": "text"
      },
      "source": [
        "# Configuration\n",
        "To use GPU as runtime, set Runtime > Change runtime type > Hardware accelerator to GPU before running any cells."
      ]
    },
    {
      "cell_type": "markdown",
      "metadata": {
        "id": "VmPx0LkU3CRC",
        "colab_type": "text"
      },
      "source": [
        "## Download data from Drive"
      ]
    },
    {
      "cell_type": "code",
      "metadata": {
        "id": "Bdnk9_MRuQXf",
        "colab_type": "code",
        "colab": {}
      },
      "source": [
        "# Download PyDrive\n",
        "!pip install -U -q PyDrive\n",
        "\n",
        "from pydrive.auth import GoogleAuth\n",
        "from pydrive.drive import GoogleDrive\n",
        "from google.colab import auth\n",
        "from oauth2client.client import GoogleCredentials\n",
        "\n",
        "# Authenticate and create the PyDrive client.\n",
        "auth.authenticate_user()\n",
        "gauth = GoogleAuth()\n",
        "gauth.credentials = GoogleCredentials.get_application_default()\n",
        "drive = GoogleDrive(gauth)\n",
        "\n",
        "# Download training files\n",
        "import os\n",
        "local_download_path = os.path.expanduser('/content')\n",
        "try:\n",
        "  os.makedirs(local_download_path)\n",
        "except: pass\n",
        "file_list = drive.ListFile({'q': \"'1DZrRBUX2BBXoT6BIQoQB1cWFtq4LYKVL' in parents\"}).GetList()\n",
        "for f in file_list:\n",
        "  fname = os.path.join(local_download_path, f['title'])\n",
        "  f_ = drive.CreateFile({'id': f['id']})\n",
        "  f_.GetContentFile(fname)\n",
        "  \n",
        "!unzip yolo.zip"
      ],
      "execution_count": 0,
      "outputs": []
    },
    {
      "cell_type": "markdown",
      "metadata": {
        "id": "gT-4-9J-24GK",
        "colab_type": "text"
      },
      "source": [
        "## Clone and make darknet"
      ]
    },
    {
      "cell_type": "code",
      "metadata": {
        "id": "MKqx7gOyszU5",
        "colab_type": "code",
        "colab": {}
      },
      "source": [
        "# Clone darknet\n",
        "!git clone https://github.com/AlexeyAB/darknet/\n",
        "  \n",
        "# Move files from yolo to darknet\n",
        "%cd darknet\n",
        "!bash -c 'mv /content/yolo/data/* /content/darknet/data/'\n",
        "!bash -c 'mv /content/yolo/cfg/* /content/darknet/cfg/'\n",
        "!bash -c 'mv /content/yolo/yolov3-strawberry.weights /content/darknet/'\n",
        "!bash -c 'mv /content/yolo/yolov3-tiny-strawberry.weights /content/darknet/'\n",
        "\n",
        "# Enable OpenCV and GPU in Makefile\n",
        "!sed -i 's/OPENCV=0/OPENCV=1/g' Makefile\n",
        "!sed -i 's/GPU=0/GPU=1/g' Makefile # comment out this line and change runtime type to run on CPU\n",
        "\n",
        "# make darknet\n",
        "!make"
      ],
      "execution_count": 0,
      "outputs": []
    },
    {
      "cell_type": "markdown",
      "metadata": {
        "id": "wTw65fy629vq",
        "colab_type": "text"
      },
      "source": [
        "# Testing\n",
        "The result of the detections are stored in predictions.jpg and in result.txt"
      ]
    },
    {
      "cell_type": "markdown",
      "metadata": {
        "id": "hNhoTN1Q7rMj",
        "colab_type": "text"
      },
      "source": [
        "## YOLOv3-strawberry"
      ]
    },
    {
      "cell_type": "code",
      "metadata": {
        "id": "aeJaqnYb2lU3",
        "colab_type": "code",
        "colab": {}
      },
      "source": [
        "# Test YOLOv3-strawberry on an image\n",
        "!./darknet detector test data/strawberry.data cfg/yolov3-strawberry.cfg yolov3-strawberry.weights -dont_show -ext_output < data/test.txt > result.txt"
      ],
      "execution_count": 0,
      "outputs": []
    },
    {
      "cell_type": "code",
      "metadata": {
        "id": "hbzGTuNT7yEC",
        "colab_type": "code",
        "colab": {}
      },
      "source": [
        "# Test YOLOv3-strawberry on a video\n",
        "!./darknet detector demo data/strawberry.data cfg/yolov3-strawberry.cfg yolov3-strawberry.weights -dont_show data/strawberries.mp4 -out_filename result.avi"
      ],
      "execution_count": 0,
      "outputs": []
    },
    {
      "cell_type": "markdown",
      "metadata": {
        "id": "H8S7rzwN7uwb",
        "colab_type": "text"
      },
      "source": [
        "## YOLOv3-tiny-strawberry"
      ]
    },
    {
      "cell_type": "code",
      "metadata": {
        "id": "wCnfEhlA4SL9",
        "colab_type": "code",
        "colab": {}
      },
      "source": [
        "# Test YOLOv3-tiny-strawberry on an image\n",
        "!./darknet detector test data/strawberry.data cfg/yolov3-tiny-strawberry.cfg yolov3-tiny-strawberry.weights -dont_show -ext_output < data/test.txt > result-tiny.txt"
      ],
      "execution_count": 0,
      "outputs": []
    },
    {
      "cell_type": "code",
      "metadata": {
        "id": "OV50uG0S7oBT",
        "colab_type": "code",
        "colab": {}
      },
      "source": [
        "# Test YOLOv3-tiny-strawberry on a video\n",
        "!./darknet detector demo data/strawberry.data cfg/yolov3-tiny-strawberry.cfg yolov3-tiny-strawberry.weights -dont_show data/strawberries.mp4 -out_filename result-tiny.avi"
      ],
      "execution_count": 0,
      "outputs": []
    }
  ]
}