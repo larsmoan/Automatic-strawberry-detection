{
  "nbformat": 4,
  "nbformat_minor": 0,
  "metadata": {
    "colab": {
      "name": "strawberry.ipynb",
      "version": "0.3.2",
      "provenance": [],
      "collapsed_sections": []
    },
    "kernelspec": {
      "name": "python3",
      "display_name": "Python 3"
    },
    "accelerator": "GPU"
  },
  "cells": [
    {
      "cell_type": "code",
      "metadata": {
        "id": "Bdnk9_MRuQXf",
        "colab_type": "code",
        "colab": {}
      },
      "source": [
        "# Download PyDrive\n",
        "!pip install -U -q PyDrive\n",
        "\n",
        "from pydrive.auth import GoogleAuth\n",
        "from pydrive.drive import GoogleDrive\n",
        "from google.colab import auth\n",
        "from oauth2client.client import GoogleCredentials\n",
        "\n",
        "# Authenticate and create the PyDrive client.\n",
        "auth.authenticate_user()\n",
        "gauth = GoogleAuth()\n",
        "gauth.credentials = GoogleCredentials.get_application_default()\n",
        "drive = GoogleDrive(gauth)\n",
        "\n",
        "# Download training files\n",
        "import os\n",
        "local_download_path = os.path.expanduser('/content')\n",
        "try:\n",
        "  os.makedirs(local_download_path)\n",
        "except: pass\n",
        "file_list = drive.ListFile({'q': \"'1DZrRBUX2BBXoT6BIQoQB1cWFtq4LYKVL' in parents\"}).GetList()\n",
        "for f in file_list:\n",
        "  fname = os.path.join(local_download_path, f['title'])\n",
        "  f_ = drive.CreateFile({'id': f['id']})\n",
        "  f_.GetContentFile(fname)\n",
        "  \n",
        "!unzip yolo.zip"
      ],
      "execution_count": 0,
      "outputs": []
    },
    {
      "cell_type": "code",
      "metadata": {
        "id": "MKqx7gOyszU5",
        "colab_type": "code",
        "colab": {}
      },
      "source": [
        "# Clone darknet\n",
        "!git clone https://github.com/AlexeyAB/darknet/\n",
        "  \n",
        "# Move files from yolo to darknet\n",
        "%cd darknet\n",
        "!bash -c 'mv /content/yolo/data/* /content/darknet/data/'\n",
        "!bash -c 'mv /content/yolo/cfg/* /content/darknet/cfg/'\n",
        "!bash -c 'mv /content/yolo/yolov3-strawberry.weights /content/darknet/'\n",
        "!bash -c 'mv /content/yolo/yolov3-tiny-strawberry.weights /content/darknet/'\n",
        "\n",
        "# Enable OpenCV and GPU in Makefile\n",
        "!sed -i 's/OPENCV=0/OPENCV=1/g' Makefile\n",
        "!sed -i 's/GPU=0/GPU=1/g' Makefile\n",
        "\n",
        "# make darknet\n",
        "!make"
      ],
      "execution_count": 0,
      "outputs": []
    },
    {
      "cell_type": "code",
      "metadata": {
        "id": "aeJaqnYb2lU3",
        "colab_type": "code",
        "colab": {}
      },
      "source": [
        "# Test detection on custom image\n",
        "!./darknet detector test data/strawberry.data cfg/yolov3-tiny-strawberry.cfg yolov3-tiny-strawberry.weights data/strawberry/0508.jpg -dont_show -ext_output < data/test.txt > result.txt"
      ],
      "execution_count": 0,
      "outputs": []
    }
  ]
}